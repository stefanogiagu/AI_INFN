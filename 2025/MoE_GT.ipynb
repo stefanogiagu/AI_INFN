{
  "nbformat": 4,
  "nbformat_minor": 0,
  "metadata": {
    "colab": {
      "provenance": [],
      "gpuType": "T4",
      "authorship_tag": "ABX9TyPsrnt4ScQMEo4/vymqnzbg",
      "include_colab_link": true
    },
    "kernelspec": {
      "name": "python3",
      "display_name": "Python 3"
    },
    "language_info": {
      "name": "python"
    },
    "accelerator": "GPU"
  },
  "cells": [
    {
      "cell_type": "markdown",
      "metadata": {
        "id": "view-in-github",
        "colab_type": "text"
      },
      "source": [
        "<a href=\"https://colab.research.google.com/github/stefanogiagu/AI_INFN/blob/main/2025/MoE_GT.ipynb\" target=\"_parent\"><img src=\"https://colab.research.google.com/assets/colab-badge.svg\" alt=\"Open In Colab\"/></a>"
      ]
    },
    {
      "cell_type": "markdown",
      "source": [
        "# Mixture-of-experts graph transformers for interpretable particle collision detection\n",
        "\n",
        "*2nd AI_INFN Hachathon - Pavia 24-27/11/2025*\n",
        "\n",
        "**Topic:** MoE GraphTransformers (D.Genovese, A.Sgroi, A.Devoto, S.Valentine, L.Wood, C.Sebastiani, S.Scardapane, M.D'Onofrio, S.Giagu,  \"Mixture-of-experts graph transformers for interpretable particle collision detection\", [Sci Rep 15, 27906 (2025)](https://link.springer.com/article/10.1038/s41598-025-12003-9)), combine a Graph Transformer model ([arXiv:2021.09699](https://arxiv.org/abs/2012.09699)) with Mixture-of-Expert layers ([arXiv:1701.06538](https://arxiv.org/abs/1701.06538)) to achieve high predictive performance while embedding explainability into the architecture.\n",
        "\n",
        "**Example application:** Classification of high energy decays (Exotic Higgs decays $H^0(425) \\to WH^+(325) \\to WWh^0(125)\\to WWb\\bar{b}\\to l\\nu qq'b\\bar{b}$ final states, vs SM $t\\bar{t}\\to WWb\\bar{b}\\to l\\nu qq'b\\bar{b}$). **Public dataset** from  P.Baldi, P.Sadowsky, D. Whiteson, \"Searching for exotic particles in high-energy physics with deep learning\", [Nat Commun 5, 4308 (2014)](https://www.nature.com/articles/ncomms5308).\n",
        "\n",
        "**Exercise steps:**\n",
        "1. read and preprocess dataset to create events fully connected graphs (sets), with Laplacian spectral positional encoding ([arXiv:2106.03893](https://arxiv.org/pdf/2106.03893));\n",
        "2. design a MoE Graph-Transformer (MoE-GT) architecture;\n",
        "3. training and performance assesment;\n",
        "4. exaple of analysis of the experts' utilisation and of the attention heat-maps.\n",
        "\n",
        "**Note:** set and coded to be fully run (train + test) in less than ~30 minutes on gogle colab using a Nvidia T4 GPU\n",
        "\n",
        "**Notebook Version:** V1.0 **author:** <stefano.giagu@uniroma1.it>"
      ],
      "metadata": {
        "id": "p7yppgd_JxEX"
      }
    },
    {
      "cell_type": "code",
      "source": [
        "#@title 1. Setup software [average running time in google colab: ~50 seconds]\n",
        "import torch\n",
        "print(torch.__version__)\n",
        "\n",
        "\n",
        "#install pytorch geometric libraries in google colab\n",
        "!pip uninstall torch-scatter torch-sparse torch-geometric torch-cluster torch-spline-conv --y\n",
        "!pip install torch-scatter -f https://data.pyg.org/whl/torch-{torch.__version__}.html\n",
        "!pip install torch-spline-conv -f https://data.pyg.org/whl/torch-{torch.__version__}.html\n",
        "!pip install torch-sparse -f https://data.pyg.org/whl/torch-{torch.__version__}.html\n",
        "!pip install torch-cluster -f https://data.pyg.org/whl/torch-{torch.__version__}.html\n",
        "!pip install git+https://github.com/pyg-team/pytorch_geometric.git"
      ],
      "metadata": {
        "colab": {
          "base_uri": "https://localhost:8080/"
        },
        "id": "LPB_ZwZKMhPe",
        "outputId": "702a968d-0330-4e3e-ad8d-d023ab84eaf9"
      },
      "execution_count": 1,
      "outputs": [
        {
          "output_type": "stream",
          "name": "stdout",
          "text": [
            "2.8.0+cu126\n",
            "\u001b[33mWARNING: Skipping torch-scatter as it is not installed.\u001b[0m\u001b[33m\n",
            "\u001b[0m\u001b[33mWARNING: Skipping torch-sparse as it is not installed.\u001b[0m\u001b[33m\n",
            "\u001b[0m\u001b[33mWARNING: Skipping torch-geometric as it is not installed.\u001b[0m\u001b[33m\n",
            "\u001b[0m\u001b[33mWARNING: Skipping torch-cluster as it is not installed.\u001b[0m\u001b[33m\n",
            "\u001b[0m\u001b[33mWARNING: Skipping torch-spline-conv as it is not installed.\u001b[0m\u001b[33m\n",
            "\u001b[0mLooking in links: https://data.pyg.org/whl/torch-2.8.0+cu126.html\n",
            "Collecting torch-scatter\n",
            "  Downloading https://data.pyg.org/whl/torch-2.8.0%2Bcu126/torch_scatter-2.1.2%2Bpt28cu126-cp312-cp312-linux_x86_64.whl (10.9 MB)\n",
            "\u001b[2K     \u001b[90m━━━━━━━━━━━━━━━━━━━━━━━━━━━━━━━━━━━━━━━\u001b[0m \u001b[32m10.9/10.9 MB\u001b[0m \u001b[31m114.6 MB/s\u001b[0m eta \u001b[36m0:00:00\u001b[0m\n",
            "\u001b[?25hInstalling collected packages: torch-scatter\n",
            "Successfully installed torch-scatter-2.1.2+pt28cu126\n",
            "Looking in links: https://data.pyg.org/whl/torch-2.8.0+cu126.html\n",
            "Collecting torch-spline-conv\n",
            "  Downloading https://data.pyg.org/whl/torch-2.8.0%2Bcu126/torch_spline_conv-1.2.2%2Bpt28cu126-cp312-cp312-linux_x86_64.whl (1.1 MB)\n",
            "\u001b[2K     \u001b[90m━━━━━━━━━━━━━━━━━━━━━━━━━━━━━━━━━━━━━━━━\u001b[0m \u001b[32m1.1/1.1 MB\u001b[0m \u001b[31m21.7 MB/s\u001b[0m eta \u001b[36m0:00:00\u001b[0m\n",
            "\u001b[?25hInstalling collected packages: torch-spline-conv\n",
            "Successfully installed torch-spline-conv-1.2.2+pt28cu126\n",
            "Looking in links: https://data.pyg.org/whl/torch-2.8.0+cu126.html\n",
            "Collecting torch-sparse\n",
            "  Downloading https://data.pyg.org/whl/torch-2.8.0%2Bcu126/torch_sparse-0.6.18%2Bpt28cu126-cp312-cp312-linux_x86_64.whl (5.2 MB)\n",
            "\u001b[2K     \u001b[90m━━━━━━━━━━━━━━━━━━━━━━━━━━━━━━━━━━━━━━━━\u001b[0m \u001b[32m5.2/5.2 MB\u001b[0m \u001b[31m65.4 MB/s\u001b[0m eta \u001b[36m0:00:00\u001b[0m\n",
            "\u001b[?25hRequirement already satisfied: scipy in /usr/local/lib/python3.12/dist-packages (from torch-sparse) (1.16.1)\n",
            "Requirement already satisfied: numpy<2.6,>=1.25.2 in /usr/local/lib/python3.12/dist-packages (from scipy->torch-sparse) (2.0.2)\n",
            "Installing collected packages: torch-sparse\n",
            "Successfully installed torch-sparse-0.6.18+pt28cu126\n",
            "Looking in links: https://data.pyg.org/whl/torch-2.8.0+cu126.html\n",
            "Collecting torch-cluster\n",
            "  Downloading https://data.pyg.org/whl/torch-2.8.0%2Bcu126/torch_cluster-1.6.3%2Bpt28cu126-cp312-cp312-linux_x86_64.whl (3.3 MB)\n",
            "\u001b[2K     \u001b[90m━━━━━━━━━━━━━━━━━━━━━━━━━━━━━━━━━━━━━━━━\u001b[0m \u001b[32m3.3/3.3 MB\u001b[0m \u001b[31m24.4 MB/s\u001b[0m eta \u001b[36m0:00:00\u001b[0m\n",
            "\u001b[?25hRequirement already satisfied: scipy in /usr/local/lib/python3.12/dist-packages (from torch-cluster) (1.16.1)\n",
            "Requirement already satisfied: numpy<2.6,>=1.25.2 in /usr/local/lib/python3.12/dist-packages (from scipy->torch-cluster) (2.0.2)\n",
            "Installing collected packages: torch-cluster\n",
            "Successfully installed torch-cluster-1.6.3+pt28cu126\n",
            "Collecting git+https://github.com/pyg-team/pytorch_geometric.git\n",
            "  Cloning https://github.com/pyg-team/pytorch_geometric.git to /tmp/pip-req-build-06riwbx5\n",
            "  Running command git clone --filter=blob:none --quiet https://github.com/pyg-team/pytorch_geometric.git /tmp/pip-req-build-06riwbx5\n",
            "  Resolved https://github.com/pyg-team/pytorch_geometric.git to commit 2f182dc6fde74bb04a67b5812dd5ee94aaf92092\n",
            "  Installing build dependencies ... \u001b[?25l\u001b[?25hdone\n",
            "  Getting requirements to build wheel ... \u001b[?25l\u001b[?25hdone\n",
            "  Preparing metadata (pyproject.toml) ... \u001b[?25l\u001b[?25hdone\n",
            "Requirement already satisfied: aiohttp in /usr/local/lib/python3.12/dist-packages (from torch-geometric==2.7.0) (3.12.15)\n",
            "Requirement already satisfied: fsspec in /usr/local/lib/python3.12/dist-packages (from torch-geometric==2.7.0) (2025.3.0)\n",
            "Requirement already satisfied: jinja2 in /usr/local/lib/python3.12/dist-packages (from torch-geometric==2.7.0) (3.1.6)\n",
            "Requirement already satisfied: numpy in /usr/local/lib/python3.12/dist-packages (from torch-geometric==2.7.0) (2.0.2)\n",
            "Requirement already satisfied: psutil>=5.8.0 in /usr/local/lib/python3.12/dist-packages (from torch-geometric==2.7.0) (5.9.5)\n",
            "Requirement already satisfied: pyparsing in /usr/local/lib/python3.12/dist-packages (from torch-geometric==2.7.0) (3.2.3)\n",
            "Requirement already satisfied: requests in /usr/local/lib/python3.12/dist-packages (from torch-geometric==2.7.0) (2.32.4)\n",
            "Requirement already satisfied: tqdm in /usr/local/lib/python3.12/dist-packages (from torch-geometric==2.7.0) (4.67.1)\n",
            "Requirement already satisfied: xxhash in /usr/local/lib/python3.12/dist-packages (from torch-geometric==2.7.0) (3.5.0)\n",
            "Requirement already satisfied: aiohappyeyeballs>=2.5.0 in /usr/local/lib/python3.12/dist-packages (from aiohttp->torch-geometric==2.7.0) (2.6.1)\n",
            "Requirement already satisfied: aiosignal>=1.4.0 in /usr/local/lib/python3.12/dist-packages (from aiohttp->torch-geometric==2.7.0) (1.4.0)\n",
            "Requirement already satisfied: attrs>=17.3.0 in /usr/local/lib/python3.12/dist-packages (from aiohttp->torch-geometric==2.7.0) (25.3.0)\n",
            "Requirement already satisfied: frozenlist>=1.1.1 in /usr/local/lib/python3.12/dist-packages (from aiohttp->torch-geometric==2.7.0) (1.7.0)\n",
            "Requirement already satisfied: multidict<7.0,>=4.5 in /usr/local/lib/python3.12/dist-packages (from aiohttp->torch-geometric==2.7.0) (6.6.4)\n",
            "Requirement already satisfied: propcache>=0.2.0 in /usr/local/lib/python3.12/dist-packages (from aiohttp->torch-geometric==2.7.0) (0.3.2)\n",
            "Requirement already satisfied: yarl<2.0,>=1.17.0 in /usr/local/lib/python3.12/dist-packages (from aiohttp->torch-geometric==2.7.0) (1.20.1)\n",
            "Requirement already satisfied: MarkupSafe>=2.0 in /usr/local/lib/python3.12/dist-packages (from jinja2->torch-geometric==2.7.0) (3.0.2)\n",
            "Requirement already satisfied: charset_normalizer<4,>=2 in /usr/local/lib/python3.12/dist-packages (from requests->torch-geometric==2.7.0) (3.4.3)\n",
            "Requirement already satisfied: idna<4,>=2.5 in /usr/local/lib/python3.12/dist-packages (from requests->torch-geometric==2.7.0) (3.10)\n",
            "Requirement already satisfied: urllib3<3,>=1.21.1 in /usr/local/lib/python3.12/dist-packages (from requests->torch-geometric==2.7.0) (2.5.0)\n",
            "Requirement already satisfied: certifi>=2017.4.17 in /usr/local/lib/python3.12/dist-packages (from requests->torch-geometric==2.7.0) (2025.8.3)\n",
            "Requirement already satisfied: typing-extensions>=4.2 in /usr/local/lib/python3.12/dist-packages (from aiosignal>=1.4.0->aiohttp->torch-geometric==2.7.0) (4.14.1)\n",
            "Building wheels for collected packages: torch-geometric\n",
            "  Building wheel for torch-geometric (pyproject.toml) ... \u001b[?25l\u001b[?25hdone\n",
            "  Created wheel for torch-geometric: filename=torch_geometric-2.7.0-py3-none-any.whl size=1235402 sha256=c7fc3aca574da72469a5d6e3bc6962e2871388605ce231511d5d2b8ea5d07b87\n",
            "  Stored in directory: /tmp/pip-ephem-wheel-cache-jg4nthil/wheels/96/ab/80/5e43250505a6e639df59a3d89c6b45ed5511f70db8d0ac39c7\n",
            "Successfully built torch-geometric\n",
            "Installing collected packages: torch-geometric\n",
            "Successfully installed torch-geometric-2.7.0\n"
          ]
        }
      ]
    },
    {
      "cell_type": "code",
      "source": [
        "#@title 2. Import libraries [average running time in google colab: ~1 second]\n",
        "import math, torch, numpy as np, matplotlib.pyplot as plt\n",
        "import torch.nn as nn\n",
        "import torch.nn.functional as F\n",
        "from torch.utils.data import Dataset, DataLoader, random_split\n",
        "from sklearn.preprocessing import StandardScaler\n",
        "from torch.optim.lr_scheduler import CosineAnnealingLR\n",
        "\n",
        "device = torch.device('cuda' if torch.cuda.is_available() else 'cpu')\n",
        "print('Torch', torch.__version__, '| device →', device)"
      ],
      "metadata": {
        "colab": {
          "base_uri": "https://localhost:8080/"
        },
        "id": "Yin9uLpIMVPB",
        "outputId": "77d3d496-f105-47de-bbfd-7a1b520bf047"
      },
      "execution_count": 2,
      "outputs": [
        {
          "output_type": "stream",
          "name": "stdout",
          "text": [
            "Torch 2.8.0+cu126 | device → cuda\n"
          ]
        }
      ]
    },
    {
      "cell_type": "code",
      "source": [
        "#@title 3. Load `data_HiggsDS.npz` & create splits & [average running time in google colab: ~10 seconds]\n",
        "\n",
        "# Higgs dataset from paper: \"Searching for exotic particles in high-energy\n",
        "# physics with deep learning\", P.Baldi, P.Sadowsky, D. Whiteson, Nat Commun 5, 4308 (2014)\n",
        "\n",
        "# Dataset description:\n",
        "# 24 features: lepton pT, lepton eta, lepton phi, missing energy magnitude, missing energy phi,\n",
        "# jet 1 pt, jet 1 eta, jet 1 phi, jet 1 b-tag,\n",
        "# jet 2 pt, jet 2 eta, jet 2 phi, jet 2 b-tag,\n",
        "# jet 3 pt, jet 3 eta, jet 3 phi, jet 3 b-tag,\n",
        "# jet 4 pt, jet 4 eta, jet 4 phi, jet 4 b-tag,\n",
        "# reconstructed mass m_bb, reconstructed mass m_Wbb, reconstructed mass m_WWbb\n",
        "\n",
        "# NOTE: all features have been standardized over the entire training/test set\n",
        "# with mean 0 and sdev 1, except for those features with values strictly >0,\n",
        "# these have been scaled so that the mean value was 1.\n",
        "\n",
        "# download dataset (numpy compressed)\n",
        "!wget -N http://giagu.web.cern.ch/giagu/CERN/data_higgsDS.npz\n",
        "\n",
        "npz = np.load('data_higgsDS.npz')\n",
        "X_all = npz['features'].astype('float32')\n",
        "y_all = npz['labels'  ].astype('int64')\n",
        "\n",
        "print('Dataset shape:', X_all.shape)\n",
        "\n",
        "# train / val / test = 80 / 10 / 10 %\n",
        "n   = 400000 #number of events used for the exercises (kept low to reduce running time)\n",
        "n_train = int(0.8 * n)\n",
        "n_val   = int(0.1 * n)\n",
        "n_test  = n - n_train - n_val\n",
        "\n",
        "\n",
        "idx   = np.random.permutation(len(X_all))\n",
        "X_all = X_all[idx];  y_all = y_all[idx]\n",
        "\n",
        "X_all = X_all[:n]\n",
        "y_all = y_all[:n]\n",
        "\n",
        "print('Used dataset shape:', X_all.shape, '\\n')\n",
        "\n",
        "print('Split sizes:', n_train, n_val, n_test)\n",
        "\n",
        "# standardisation on train only\n",
        "scaler = StandardScaler().fit(X_all[:n_train])\n",
        "X_all  = scaler.transform(X_all).astype('float32')"
      ],
      "metadata": {
        "colab": {
          "base_uri": "https://localhost:8080/"
        },
        "id": "sxpf9vyy-Zl6",
        "outputId": "bd6c0691-39c9-4496-ecff-60b33d845b80"
      },
      "execution_count": 5,
      "outputs": [
        {
          "output_type": "stream",
          "name": "stdout",
          "text": [
            "--2025-08-22 09:05:28--  http://giagu.web.cern.ch/giagu/CERN/data_higgsDS.npz\n",
            "Resolving giagu.web.cern.ch (giagu.web.cern.ch)... 188.185.50.104, 188.185.5.88, 137.138.55.232, ...\n",
            "Connecting to giagu.web.cern.ch (giagu.web.cern.ch)|188.185.50.104|:80... connected.\n",
            "HTTP request sent, awaiting response... 302 Found\n",
            "Location: https://giagu.web.cern.ch/giagu/CERN/data_higgsDS.npz [following]\n",
            "--2025-08-22 09:05:29--  https://giagu.web.cern.ch/giagu/CERN/data_higgsDS.npz\n",
            "Connecting to giagu.web.cern.ch (giagu.web.cern.ch)|188.185.50.104|:443... connected.\n",
            "HTTP request sent, awaiting response... 200 OK\n",
            "Length: 132168641 (126M)\n",
            "Saving to: ‘data_higgsDS.npz’\n",
            "\n",
            "data_higgsDS.npz    100%[===================>] 126.04M  22.4MB/s    in 6.9s    \n",
            "\n",
            "2025-08-22 09:05:36 (18.2 MB/s) - ‘data_higgsDS.npz’ saved [132168641/132168641]\n",
            "\n",
            "Dataset shape: (1691147, 24)\n",
            "Used dataset shape: (400000, 24) \n",
            "\n",
            "Split sizes: 320000 40000 40000\n"
          ]
        }
      ]
    },
    {
      "cell_type": "code",
      "source": [
        "# Laplacian positional encoding [average running time in google colab: ~0 seconds]\n",
        "\n",
        "# Transformers rely on order to know where a token sits in a sequence.\n",
        "# When dealing with graphs there is a problem, as graphs are unordered collections\n",
        "# of nodes, so there is no inherent “first” or “last” node.\n",
        "# To feed a graph into a transformer-style architecture like the GT we want to use\n",
        "# we give each node a coordinate vector that captures where it lives inside the graph\n",
        "# topology. These coordinates are called graph positional encodings.\n",
        "# A smart technique to find PE coordinates for graphs is the Laplacian positional encoding (LPE),\n",
        "# that realy on spectral properties of the graph to identify gloabl structure of the graph.\n",
        "\n",
        "# Definition:\n",
        "# given the graph G = (V,E) with |V|=N, we define the Adjacency matrix A:A_ij=1 if (i,j)\\in E,\n",
        "# otherwise A_ij=0; and the Degree matrix D = diag(d_1, ..., d_N), where d_i = Sum_j A_ij\n",
        "\n",
        "# the Combinatorial Laplacian matrix L is defined as: L = D - A\n",
        "# it is symmetric positive-semidefinite and plays for graphs the same role the\n",
        "# second-derivative (Laplacian) plays on continuous domains.\n",
        "\n",
        "# We can decompose L on his eigenvalues:\n",
        "# Lu_k = lambda_k u_k   with  0 <= lambda_0 <= lambda_1 <= .... <= lambda_N-1\n",
        "# with u_0 = 1\\sqrt(N) (1,...,1)^T is the trivial constant vector, and\n",
        "# u_2,...,u_N-1 are an orthonrmal basis function over the graph (analogs of sine/cosine in\n",
        "# Fourier analysis).\n",
        "\n",
        "# LPE procedure:\n",
        "# choose a small number k (e.g. 4–16)\n",
        "# Stack the first k non-trivial eigenvectors into a matrix: PE = [u_1, ..., u_k] \\in R^Nxk\n",
        "# each node i of the graph now has k-dimensional coordinate: PE_i = (u_1(i), ..., u_j(i))\n",
        "\n",
        "# Advantages:\n",
        "# - the LPE provides the model with a geometry-aware notion of “position” instead of simple sequence order.\n",
        "# - low-frequency eigenvectors vary slowly across the graph; they capture coarse clusters and\n",
        "# long-range relationships—information that vanilla node features lack;\n",
        "# - as the Laplacian matrix depends only on G, then PE is permutation-equivariant:\n",
        "# reorder nodes → reorder rows → transformer sees the same geometry;\n",
        "# - recent studies show that Laplacian PEs let transformers distinguish graphs\n",
        "# that message-passing GNNs cannot (eg increases the expressive power of the model).\n",
        "\n",
        "\n",
        "# function that returns (N, k) matrix of Laplacian eigenvectors\n",
        "def laplacian_pe(num_nodes=24, k=4):\n",
        "    A = torch.ones(num_nodes, num_nodes) - torch.eye(num_nodes)  # fully-connected (matrix with all 1s but the diagonal)\n",
        "    D = torch.diag(A.sum(1))\n",
        "    L = D - A\n",
        "    eigvals, eigvecs = torch.linalg.eigh(L)         # (N,), (N,N)\n",
        "    return eigvecs[:, 1:k+1].float()                # drop the trivial eigenvector\n",
        "PE_FIXED = laplacian_pe()                           # shape (24, 4)"
      ],
      "metadata": {
        "id": "SPuSdmyEUELX"
      },
      "execution_count": 6,
      "outputs": []
    },
    {
      "cell_type": "code",
      "source": [
        "#@title 4. PyTorch Dataset & DataLoaders [average running time in google colab: ~0 seconds]\n",
        "\n",
        "class HiggsGraphDataset(Dataset):\n",
        "#Treat each event as a fully-connected graph with 24 nodes, one scalar feature per node.\n",
        "    def __init__(self, X, y, pe=PE_FIXED):\n",
        "        self.X = X.reshape(-1, 24, 1)    # (B, N=24, F=1)\n",
        "        #Laplacian PE\n",
        "        self.pe = pe.unsqueeze(0).repeat(len(X), 1, 1)  # broadcast to batch\n",
        "        self.y = y\n",
        "    def __len__(self): return len(self.y)\n",
        "    def __getitem__(self, i):\n",
        "        x_node = torch.from_numpy(self.X[i])        # (N,1)\n",
        "        x = torch.cat([x_node, self.pe[i]], dim=-1) # now (N, 1+pe_dim)\n",
        "        return x, torch.tensor(self.y[i])\n",
        "\n",
        "ds_train = HiggsGraphDataset(X_all[:n_train], y_all[:n_train])\n",
        "ds_val   = HiggsGraphDataset(X_all[n_train:n_train+n_val], y_all[n_train:n_train+n_val])\n",
        "ds_test  = HiggsGraphDataset(X_all[n_train+n_val:n_train+n_val+n_test], y_all[n_train+n_val:n_train+n_val+n_test])\n",
        "\n",
        "train_loader = DataLoader(ds_train, batch_size=1024, shuffle=True,  num_workers=2, pin_memory=True)\n",
        "val_loader   = DataLoader(ds_val,   batch_size=4096, shuffle=False, num_workers=2, pin_memory=True)\n",
        "test_loader  = DataLoader(ds_test,  batch_size=4096, shuffle=False, num_workers=2, pin_memory=True)\n",
        "\n",
        "print(f'Events → train:{len(ds_train)}  val:{len(ds_val)}  test:{len(ds_test)}')"
      ],
      "metadata": {
        "colab": {
          "base_uri": "https://localhost:8080/"
        },
        "id": "d0SLIKxk_JJo",
        "outputId": "f61835b5-7ccc-4e3e-fe8d-04e3d7c44ed4"
      },
      "execution_count": 7,
      "outputs": [
        {
          "output_type": "stream",
          "name": "stdout",
          "text": [
            "Events → train:320000  val:40000  test:40000\n"
          ]
        }
      ]
    },
    {
      "cell_type": "code",
      "source": [
        "#@title 5. Graph-Transformer + Mixture-of-Experts Architecture [average running time in google colab: ~0 seconds]\n",
        "\n",
        "# Architecture scheme:\n",
        "#\n",
        "#          token features (T, d_model)\n",
        "#                     │\n",
        "#          ┌──────────┴──────────┐\n",
        "#          ▼                     ▼\n",
        "#   Noisy-Top-K router       load-balancing\n",
        "#(select k experts/token)        loss\n",
        "#          │\n",
        "#          ├── indices  ─────────► (analysis only)\n",
        "#          └── gates   ┐\n",
        "#                      ▼\n",
        "#        ┌───────────────────────────┐\n",
        "#        │  Expert 0   Expert 1  …   │   (E experts in parallel)\n",
        "#        │   MLP        MLP          │\n",
        "#        └───────────────────────────┘\n",
        "#                      ▲\n",
        "#         weighted sum │ (sparse: only k experts/tok)\n",
        "#                      ▼\n",
        "#         combined output (T, d_model)\n",
        "#                      │\n",
        "#          residual + LayerNorm, etc.\n",
        "\n",
        "\n",
        "\n",
        "# ---------- Router --------------------------------------------------------------\n",
        "# router scope: is the heart of the MoE architecture. His task is to decide,\n",
        "# for each token, which subset of experts it should be routed to, and with what\n",
        "# importance (the so called gating weights).\n",
        "\n",
        "# In practice implements the function G(x): G(x) = Softmax(KeepTopK(H(x),k)) in which\n",
        "# H(x) is a score function that includes learned expert scores plus noise. This allows the model\n",
        "# to learn during traning which experts are relevant for a token and encourages diverse routing.\n",
        "\n",
        "# In practice the NoisyTopKRouter module implements the following steps:\n",
        "# 1: assigns a score to each expert for every token\n",
        "# 2: adds noise to encourage exploration\n",
        "# 3: selects the top-k scoring experts\n",
        "# 4: applies a softmax to produce routing weights\n",
        "# 5: outputs an auxiliary load-balancing loss, in order to avoid expert collapse\n",
        "\n",
        "#\n",
        "class NoisyTopKRouter(nn.Module):\n",
        "    def __init__(self, d_model, n_experts, k=2, w_load=1.0):\n",
        "        super().__init__()\n",
        "        self.k, self.w_load = k, w_load #k and weight for the load balancing loss\n",
        "        self.wg     = nn.Linear(d_model, n_experts, bias=False) #linear projection: score how well each expert fits the token (learned scores)\n",
        "        self.w_noise= nn.Linear(d_model, n_experts, bias=False) #learn a noise scale per expert, per token\n",
        "\n",
        "    def forward(self, x):\n",
        "        # input: x (T, d) <- token embedding\n",
        "        # outputs:\n",
        "        #   gates: (T, k)     <- softmax weights for top-k experts\n",
        "        #   indices: (T, k)   <- which experts were selected\n",
        "        #   lb_loss: scalar   <- load-balancing loss\n",
        "        logits  = self.wg(x) # linear projection: score how well each expert fits the token\n",
        "        noise   = torch.randn_like(logits)\n",
        "        logits += F.softplus(self.w_noise(x)) * noise  #encourages exploration during training, avoids premature convergence to a few experts\n",
        "\n",
        "        # select top-k experts\n",
        "        topk_log, topk_idx = torch.topk(logits, self.k, -1) # (T,k) select the best k experts for this token\n",
        "        gates = F.softmax(topk_log, -1)                     # (T,k) Compute routing weights among those k experts\n",
        "\n",
        "        # Compute load-balancing loss to ensure the even utilization of the experts\n",
        "        probs   = torch.sigmoid(logits - topk_log[:, [-1]]) # P(x,i)\n",
        "        loads   = probs.sum(0) # total load per expert\n",
        "        lb_loss = self.w_load * loads.var() / (loads.mean()**2 + 1e-9)  # Eq.(6) encourages equal usage of all experts (so some don't die out)\n",
        "\n",
        "        return gates, topk_idx, lb_loss\n",
        "\n",
        "# ---------- Experts -------------------------------------------------------------\n",
        "# expert scope: in a MoE layer each input token is routed to a small subset (typically just two)\n",
        "# of parallel neural networks called experts. Instead of every token passing through a single shared\n",
        "# feed-forward network as in a normal Transformer, the router module decides which expert(s) should process\n",
        "# which tokens.\n",
        "# each expert is a 2-layers MLP with LeakyReLU non-linearity, and it is a stanadlone MLP (eg parameters are not shared\n",
        "# across experts)\n",
        "\n",
        "# tokens are processed batch-wise so that GPU utilisation remains efficient even when different tokens choose\n",
        "# different experts.\n",
        "\n",
        "class Expert(nn.Module):\n",
        "    def __init__(self, d_model, d_hidden=20):\n",
        "        super().__init__()\n",
        "        self.net = nn.Sequential(\n",
        "            nn.Linear(d_model, d_hidden), #expansion (like in stadard transformers)\n",
        "            nn.LeakyReLU(inplace=True),   #non-linearity\n",
        "            nn.Linear(d_hidden, d_model)  #projecton back\n",
        "        )\n",
        "    def forward(self, x): return self.net(x)\n",
        "\n",
        "# ---------- MoE -----------------------------------------------------------------\n",
        "class MoE(nn.Module):\n",
        "    def __init__(self, d_model, n_experts=6, k=2, d_hidden=20):\n",
        "        super().__init__()\n",
        "        self.router  = NoisyTopKRouter(d_model, n_experts, k)\n",
        "        self.experts = nn.ModuleList([Expert(d_model, d_hidden) for _ in range(n_experts)])\n",
        "\n",
        "    def forward(self, x, trace=False):\n",
        "        gates, idx, lb_loss = self.router(x)             # (T,k)\n",
        "        y = torch.zeros_like(x)\n",
        "\n",
        "        for hop in range(gates.size(1)):\n",
        "            e_idx = idx[:, hop]\n",
        "            for e in range(len(self.experts)):\n",
        "                sel = e_idx == e\n",
        "                if sel.any():\n",
        "                    y[sel] += gates[sel, hop:hop+1] * self.experts[e](x[sel])\n",
        "\n",
        "        return (y, lb_loss, (gates.detach(), idx.detach())) if trace else (y, lb_loss)\n",
        "# ---------- Attention block -----------------------------------------------------\n",
        "class GraphMultiHeadAttention(nn.Module):\n",
        "    def __init__(self, d_model, heads):\n",
        "        super().__init__()\n",
        "        assert d_model % heads == 0\n",
        "        self.dk, self.h = d_model // heads, heads\n",
        "        self.q = nn.Linear(d_model, d_model); self.k = nn.Linear(d_model, d_model)\n",
        "        self.v = nn.Linear(d_model, d_model); self.o = nn.Linear(d_model, d_model)\n",
        "\n",
        "    def forward(self, x, mask=None):                      # x (B,N,d)\n",
        "        B,N,_ = x.size(); h,dk = self.h,self.dk\n",
        "        q = self.q(x).view(B,h,N,dk)\n",
        "        k = self.k(x).view(B,h,N,dk)\n",
        "        v = self.v(x).view(B,h,N,dk)\n",
        "        attn = (q @ k.transpose(-1,-2)) / math.sqrt(dk)\n",
        "        if mask is not None: attn = attn.masked_fill(mask[:,None]==0, -1e9)\n",
        "        attn = attn.softmax(-1)\n",
        "        return self.o((attn @ v).transpose(1,2).reshape(B,N,-1)), attn   # return attn for explain\n",
        "# ---------- Graph Transformer block ---------------------------------------------------\n",
        "class GTBlock(nn.Module):\n",
        "    def __init__(self, d_model=64, heads=2, n_experts=6, k=2, d_expert=20, p_drop=0.):\n",
        "        super().__init__()\n",
        "        self.attn  = GraphMultiHeadAttention(d_model, heads)\n",
        "        self.norm1 = nn.LayerNorm(d_model)\n",
        "        self.moe   = MoE(d_model, n_experts, k, d_expert)\n",
        "        self.norm2 = nn.LayerNorm(d_model)\n",
        "        self.drop  = nn.Dropout(p_drop)\n",
        "\n",
        "    def forward(self, x, mask=None, explain=False):\n",
        "        attn_out, attn_map = self.attn(x, mask)\n",
        "        x = self.norm1(x + self.drop(attn_out))\n",
        "        if explain:\n",
        "            y, lb, rt = self.moe(x.flatten(0,1), trace=True)\n",
        "            y = y.view_as(x); x = self.norm2(x + self.drop(y))\n",
        "            return x, lb, attn_map.detach(), rt\n",
        "        else:\n",
        "            y, lb = self.moe(x.flatten(0,1))\n",
        "            y = y.view_as(x); x = self.norm2(x + self.drop(y))\n",
        "            return x, lb\n",
        "# ---------- Complete model ------------------------------------------------------\n",
        "class GraphTransformerMoE(nn.Module):\n",
        "    def __init__(self, in_dim=5, d_model=64, layers=2, heads=2,\n",
        "                 n_experts=6, k=2, d_expert=20):\n",
        "        super().__init__()\n",
        "        self.in_proj = nn.Linear(in_dim, d_model)\n",
        "        self.blocks  = nn.ModuleList([\n",
        "            GTBlock(d_model, heads, n_experts, k, d_expert) for _ in range(layers)\n",
        "        ])\n",
        "        self.cls_head = nn.Sequential(\n",
        "            nn.Linear(d_model, d_model),\n",
        "            nn.ReLU(),\n",
        "            nn.Linear(d_model, 2)\n",
        "        )\n",
        "\n",
        "    def forward(self, x, mask=None, explain=False):\n",
        "        # x (B,N,1)\n",
        "        x = self.in_proj(x)\n",
        "        lb_losses, atts, rts = [], [], []\n",
        "        for blk in self.blocks:\n",
        "            if explain:\n",
        "                x, lb, att, rt = blk(x, mask, explain=True)\n",
        "                atts.append(att); rts.append(rt)\n",
        "            else:\n",
        "                x, lb = blk(x, mask)\n",
        "            lb_losses.append(lb)\n",
        "        g = x.mean(1)                 # global mean pooling\n",
        "        return self.cls_head(g), torch.stack(lb_losses).mean(), (atts, rts) if explain else None"
      ],
      "metadata": {
        "id": "u4okZ3KC_a-A"
      },
      "execution_count": 8,
      "outputs": []
    },
    {
      "cell_type": "code",
      "source": [
        "#@title 6. Training loop [average running time in google colab for 60 epochs: ~25-30 min on T4 GPU]\n",
        "\n",
        "import time\n",
        "# instantiate model and define loss, optimizer, and scheduler\n",
        "model = GraphTransformerMoE().to(device)\n",
        "\n",
        "crit  = nn.CrossEntropyLoss() #x-entropy loss\n",
        "opt   = torch.optim.AdamW(model.parameters(), lr=3e-4, weight_decay=1e-5) #AdamW\n",
        "sched = CosineAnnealingLR(opt, T_max=60) #cosine learning rate scheduler\n",
        "\n",
        "num_epochs = 60\n",
        "\n",
        "best_val = 1e9; best_state = None\n",
        "history = {'train':[], 'val':[]}\n",
        "\n",
        "# ---- epoch loop ------------------------------------------------------------\n",
        "for epoch in range(1, num_epochs+1):\n",
        "    t0 = time.time()\n",
        "\n",
        "    # ---- train loop --------------------------------------------------------\n",
        "    model.train(); running = 0\n",
        "    for xb, yb in train_loader:\n",
        "        xb, yb = xb.to(device), yb.to(device)\n",
        "        logits, lb, _ = model(xb) #model prediction\n",
        "        loss = crit(logits, yb) + lb #compute loss\n",
        "        opt.zero_grad(); loss.backward(); opt.step() #bakprop and weight update\n",
        "        running += loss.item() * yb.size(0)\n",
        "    sched.step()\n",
        "\n",
        "    # ---- validation loop ----------------------------------------------------\n",
        "    model.eval(); val_loss = 0\n",
        "    correct = total = 0\n",
        "    with torch.no_grad():\n",
        "        for xb, yb in val_loader:\n",
        "            xb, yb = xb.to(device), yb.to(device)\n",
        "            logits, lb, _ = model(xb)\n",
        "            loss = crit(logits, yb) + lb\n",
        "            val_loss += loss.item() * yb.size(0)\n",
        "            pred = logits.argmax(1)\n",
        "            correct += (pred == yb).sum().item(); total += yb.size(0) #accuracy\n",
        "\n",
        "    train_loss = running / len(ds_train)\n",
        "    val_loss   = val_loss / len(ds_val)\n",
        "    val_acc    = correct / total\n",
        "    history['train'].append(train_loss); history['val'].append(val_loss)\n",
        "\n",
        "    # save best model\n",
        "    if val_loss < best_val:\n",
        "        best_val, best_state = val_loss, model.state_dict()\n",
        "\n",
        "    elapsed_time = time.time()-t0\n",
        "\n",
        "    print(f'Epoch {epoch:02d} | time {elapsed_time:.2f} | train loss {train_loss:.4f} | val loss {val_loss:.4f} | val acc {val_acc:.3f}')"
      ],
      "metadata": {
        "colab": {
          "base_uri": "https://localhost:8080/"
        },
        "id": "PhTJhE3J_0Fe",
        "outputId": "df83d059-00d3-4ffe-f1e8-e48364725176"
      },
      "execution_count": 9,
      "outputs": [
        {
          "output_type": "stream",
          "name": "stdout",
          "text": [
            "Epoch 01 | time 25.77 | train loss 0.6505 | val loss 0.6112 | val acc 0.665\n",
            "Epoch 02 | time 25.36 | train loss 0.5998 | val loss 0.5940 | val acc 0.684\n",
            "Epoch 03 | time 25.42 | train loss 0.5884 | val loss 0.5830 | val acc 0.694\n",
            "Epoch 04 | time 32.95 | train loss 0.5834 | val loss 0.5804 | val acc 0.695\n",
            "Epoch 05 | time 26.01 | train loss 0.5806 | val loss 0.5780 | val acc 0.695\n",
            "Epoch 06 | time 25.56 | train loss 0.5777 | val loss 0.5755 | val acc 0.699\n",
            "Epoch 07 | time 25.34 | train loss 0.5768 | val loss 0.5759 | val acc 0.698\n",
            "Epoch 08 | time 29.97 | train loss 0.5748 | val loss 0.5715 | val acc 0.700\n",
            "Epoch 09 | time 26.26 | train loss 0.5735 | val loss 0.5756 | val acc 0.699\n",
            "Epoch 10 | time 25.15 | train loss 0.5724 | val loss 0.5704 | val acc 0.700\n",
            "Epoch 11 | time 25.33 | train loss 0.5707 | val loss 0.5682 | val acc 0.702\n",
            "Epoch 12 | time 25.96 | train loss 0.5695 | val loss 0.5683 | val acc 0.703\n",
            "Epoch 13 | time 25.64 | train loss 0.5680 | val loss 0.5673 | val acc 0.704\n",
            "Epoch 14 | time 25.50 | train loss 0.5679 | val loss 0.5650 | val acc 0.706\n",
            "Epoch 15 | time 25.93 | train loss 0.5657 | val loss 0.5650 | val acc 0.706\n",
            "Epoch 16 | time 25.20 | train loss 0.5651 | val loss 0.5626 | val acc 0.708\n",
            "Epoch 17 | time 25.21 | train loss 0.5646 | val loss 0.5648 | val acc 0.705\n",
            "Epoch 18 | time 24.98 | train loss 0.5632 | val loss 0.5652 | val acc 0.704\n",
            "Epoch 19 | time 24.85 | train loss 0.5628 | val loss 0.5623 | val acc 0.708\n",
            "Epoch 20 | time 24.79 | train loss 0.5619 | val loss 0.5610 | val acc 0.709\n",
            "Epoch 21 | time 24.81 | train loss 0.5611 | val loss 0.5604 | val acc 0.711\n",
            "Epoch 22 | time 24.79 | train loss 0.5605 | val loss 0.5598 | val acc 0.710\n",
            "Epoch 23 | time 24.83 | train loss 0.5598 | val loss 0.5599 | val acc 0.710\n",
            "Epoch 24 | time 25.36 | train loss 0.5591 | val loss 0.5609 | val acc 0.709\n",
            "Epoch 25 | time 24.76 | train loss 0.5588 | val loss 0.5592 | val acc 0.710\n",
            "Epoch 26 | time 24.87 | train loss 0.5583 | val loss 0.5575 | val acc 0.710\n",
            "Epoch 27 | time 24.68 | train loss 0.5575 | val loss 0.5586 | val acc 0.712\n",
            "Epoch 28 | time 25.40 | train loss 0.5567 | val loss 0.5575 | val acc 0.712\n",
            "Epoch 29 | time 24.58 | train loss 0.5566 | val loss 0.5574 | val acc 0.712\n",
            "Epoch 30 | time 24.68 | train loss 0.5556 | val loss 0.5588 | val acc 0.709\n",
            "Epoch 31 | time 24.49 | train loss 0.5554 | val loss 0.5577 | val acc 0.713\n",
            "Epoch 32 | time 24.53 | train loss 0.5547 | val loss 0.5583 | val acc 0.712\n",
            "Epoch 33 | time 24.51 | train loss 0.5545 | val loss 0.5565 | val acc 0.713\n",
            "Epoch 34 | time 24.66 | train loss 0.5539 | val loss 0.5563 | val acc 0.715\n",
            "Epoch 35 | time 24.44 | train loss 0.5535 | val loss 0.5573 | val acc 0.713\n",
            "Epoch 36 | time 24.47 | train loss 0.5531 | val loss 0.5557 | val acc 0.714\n",
            "Epoch 37 | time 24.55 | train loss 0.5526 | val loss 0.5554 | val acc 0.715\n",
            "Epoch 38 | time 24.65 | train loss 0.5524 | val loss 0.5562 | val acc 0.713\n",
            "Epoch 39 | time 24.08 | train loss 0.5520 | val loss 0.5567 | val acc 0.714\n",
            "Epoch 40 | time 25.22 | train loss 0.5517 | val loss 0.5562 | val acc 0.713\n",
            "Epoch 41 | time 24.09 | train loss 0.5513 | val loss 0.5550 | val acc 0.715\n",
            "Epoch 42 | time 24.22 | train loss 0.5509 | val loss 0.5547 | val acc 0.716\n",
            "Epoch 43 | time 24.19 | train loss 0.5505 | val loss 0.5552 | val acc 0.715\n",
            "Epoch 44 | time 24.34 | train loss 0.5504 | val loss 0.5547 | val acc 0.715\n",
            "Epoch 45 | time 24.69 | train loss 0.5503 | val loss 0.5545 | val acc 0.715\n",
            "Epoch 46 | time 24.37 | train loss 0.5500 | val loss 0.5541 | val acc 0.716\n",
            "Epoch 47 | time 24.27 | train loss 0.5496 | val loss 0.5546 | val acc 0.715\n",
            "Epoch 48 | time 24.27 | train loss 0.5495 | val loss 0.5541 | val acc 0.716\n",
            "Epoch 49 | time 24.72 | train loss 0.5492 | val loss 0.5543 | val acc 0.715\n",
            "Epoch 50 | time 24.72 | train loss 0.5490 | val loss 0.5541 | val acc 0.716\n",
            "Epoch 51 | time 24.49 | train loss 0.5490 | val loss 0.5538 | val acc 0.716\n",
            "Epoch 52 | time 24.63 | train loss 0.5488 | val loss 0.5539 | val acc 0.716\n",
            "Epoch 53 | time 25.45 | train loss 0.5487 | val loss 0.5540 | val acc 0.716\n",
            "Epoch 54 | time 24.78 | train loss 0.5487 | val loss 0.5539 | val acc 0.716\n",
            "Epoch 55 | time 24.84 | train loss 0.5485 | val loss 0.5538 | val acc 0.716\n",
            "Epoch 56 | time 24.53 | train loss 0.5484 | val loss 0.5538 | val acc 0.716\n",
            "Epoch 57 | time 24.49 | train loss 0.5483 | val loss 0.5537 | val acc 0.716\n",
            "Epoch 58 | time 24.65 | train loss 0.5483 | val loss 0.5537 | val acc 0.715\n",
            "Epoch 59 | time 25.31 | train loss 0.5483 | val loss 0.5538 | val acc 0.717\n",
            "Epoch 60 | time 24.96 | train loss 0.5482 | val loss 0.5538 | val acc 0.716\n"
          ]
        }
      ]
    },
    {
      "cell_type": "code",
      "source": [
        "#@title 7. Test metrics [average running time in google colab for 60 epochs: ~2 sec]\n",
        "model.load_state_dict(best_state)\n",
        "model.eval(); correct = total = 0\n",
        "with torch.no_grad():\n",
        "    for xb, yb in test_loader:\n",
        "        xb, yb = xb.to(device), yb.to(device)\n",
        "        logits, _, _ = model(xb)\n",
        "        correct += (logits.argmax(1) == yb).sum().item(); total += yb.size(0)\n",
        "print('Test accuracy:', correct/total)"
      ],
      "metadata": {
        "colab": {
          "base_uri": "https://localhost:8080/"
        },
        "id": "lybQps2hG-V1",
        "outputId": "cad9a52f-73d6-4672-c375-55ec3cd987fd"
      },
      "execution_count": 10,
      "outputs": [
        {
          "output_type": "stream",
          "name": "stdout",
          "text": [
            "Test accuracy: 0.70975\n"
          ]
        }
      ]
    },
    {
      "cell_type": "code",
      "source": [
        "# ROC/AUC\n",
        "from sklearn.metrics import roc_curve, roc_auc_score\n",
        "\n",
        "model.eval()\n",
        "y_true, y_score = [], []\n",
        "\n",
        "with torch.no_grad():\n",
        "    for xb, yb in test_loader:\n",
        "        xb = xb.to(device)\n",
        "        logits, _, _ = model(xb)\n",
        "        probs = F.softmax(logits, dim=1)[:, 1]   # P(class=1)\n",
        "        y_true.append(yb.numpy())\n",
        "        y_score.append(probs.cpu().numpy())\n",
        "\n",
        "y_true  = np.concatenate(y_true)\n",
        "y_score = np.concatenate(y_score)\n",
        "\n",
        "# ROC + AUC\n",
        "fpr, tpr, thr = roc_curve(y_true, y_score)\n",
        "auc_value = roc_auc_score(y_true, y_score)\n",
        "\n",
        "plt.figure(figsize=(5,5))\n",
        "plt.plot(fpr, tpr, lw=2, label=f'ROC (AUC = {auc_value:.4f})')\n",
        "plt.plot([0,1], [0,1], 'k--', lw=1, label='Chance')\n",
        "plt.xlim([0,1]); plt.ylim([0,1])\n",
        "plt.xlabel('False Positive Rate'); plt.ylabel('True Positive Rate')\n",
        "plt.title('Test ROC Curve')\n",
        "plt.legend(loc='lower right'); plt.grid(True, ls='--', alpha=0.4)\n",
        "plt.show()\n",
        "\n",
        "print(f\"AUC (test): {auc_value:.6f}\")"
      ],
      "metadata": {
        "colab": {
          "base_uri": "https://localhost:8080/",
          "height": 504
        },
        "id": "F_LiZiKrMbW2",
        "outputId": "8430de46-4856-41df-8e27-afc2ef7e9e0a"
      },
      "execution_count": 16,
      "outputs": [
        {
          "output_type": "display_data",
          "data": {
            "text/plain": [
              "<Figure size 500x500 with 1 Axes>"
            ],
            "image/png": "[encoded data removed]"
          },
          "metadata": {}
        },
        {
          "output_type": "stream",
          "name": "stdout",
          "text": [
            "AUC (test): 0.783735\n"
          ]
        }
      ]
    },
    {
      "cell_type": "code",
      "source": [
        "#@title 8. Plot training / validation loss [average running time in google colab for 60 epochs: ~0 sec]\n",
        "plt.figure(figsize=(6,4))\n",
        "plt.plot(history['train'], label='train'); plt.plot(history['val'], label='val')\n",
        "plt.xlabel('epoch'); plt.ylabel('loss'); plt.legend(); plt.grid(); plt.show()"
      ],
      "metadata": {
        "colab": {
          "base_uri": "https://localhost:8080/",
          "height": 388
        },
        "id": "9XlMavXnHCbo",
        "outputId": "c688090b-b3ec-493e-be39-53811ebbcba8"
      },
      "execution_count": 11,
      "outputs": [
        {
          "output_type": "display_data",
          "data": {
            "text/plain": [
              "<Figure size 600x400 with 1 Axes>"
            ],
            "image/png": "[encoded data removed]"
          },
          "metadata": {}
        }
      ]
    },
    {
      "cell_type": "code",
      "source": [
        "#@title 9. Expert-utilisation histogram (validation) [average running time in google colab for 60 epochs: ~1 sec]\n",
        "import torch, matplotlib.pyplot as plt\n",
        "\n",
        "model.eval(); exp_all = []\n",
        "with torch.no_grad():\n",
        "    for xb, _ in val_loader:\n",
        "        xb = xb.to(device)\n",
        "\n",
        "        # forward pass with routing traces\n",
        "        _, _, (_, traces) = model(xb, explain=True)\n",
        "        gates, idx = traces[-1]            # last layer → shapes (T, k)\n",
        "\n",
        "        # pick the expert with the largest gate weight for every token\n",
        "        top_pos = gates.argmax(dim=1, keepdim=True)      # (T,1)\n",
        "        exp_ids = idx.gather(1, top_pos).squeeze(1)      # (T,)\n",
        "\n",
        "        exp_all.extend(exp_ids.cpu().tolist())\n",
        "\n",
        "num_exp = model.blocks[0].moe.router.wg.out_features\n",
        "counts  = torch.bincount(torch.tensor(exp_all), minlength=num_exp)\n",
        "\n",
        "plt.bar(range(num_exp), counts)\n",
        "plt.xlabel('expert id'); plt.ylabel('# tokens')\n",
        "plt.title('Validation expert utilisation')\n",
        "plt.show()"
      ],
      "metadata": {
        "colab": {
          "base_uri": "https://localhost:8080/",
          "height": 472
        },
        "id": "oZvrugSoHEt4",
        "outputId": "c144b196-8b92-447d-b847-286064aecc50"
      },
      "execution_count": 13,
      "outputs": [
        {
          "output_type": "display_data",
          "data": {
            "text/plain": [
              "<Figure size 640x480 with 1 Axes>"
            ],
            "image/png": "[encoded data removed]"
          },
          "metadata": {}
        }
      ]
    },
    {
      "cell_type": "code",
      "source": [
        "#@title 10. Attention heat-map & expert colours for one event [average running time in google colab for 60 epochs: ~0 sec]\n",
        "\n",
        "layer = 0        # which transformer layer to inspect\n",
        "head  = 0        # which attention head (0 … H-1)\n",
        "\n",
        "# one validation event\n",
        "sample_x, sample_y = ds_val[0]\n",
        "sample_x = sample_x.unsqueeze(0).to(device)    # (1,24,1)\n",
        "\n",
        "model.eval()\n",
        "with torch.no_grad():\n",
        "    logits, _, (atts, traces) = model(sample_x, explain=True)\n",
        "\n",
        "# ---------- attention heat-map ----------------------------------------\n",
        "att_map = atts[layer][0, head].cpu()           # (N, N)\n",
        "plt.figure(figsize=(4,4))\n",
        "plt.imshow(att_map, cmap='viridis')\n",
        "plt.colorbar()\n",
        "plt.title(f'Attention – layer {layer+1}, head {head+1}')\n",
        "plt.xlabel('node'); plt.ylabel('node'); plt.show()\n",
        "\n",
        "# ---------- dominant expert per node ----------------------------------\n",
        "gates, idx = traces[layer]                     # shapes (T=N, k)\n",
        "top_pos = gates.argmax(dim=1)                  # (N,) best of k experts\n",
        "dom_exp = idx[torch.arange(idx.size(0)), top_pos].cpu()  # (N,)\n",
        "\n",
        "print('Dominant expert id for each of the 23 nodes:')\n",
        "print(dom_exp.tolist())"
      ],
      "metadata": {
        "colab": {
          "base_uri": "https://localhost:8080/",
          "height": 392
        },
        "id": "JgFY9gifHH8i",
        "outputId": "4553dd7a-a8f0-4e7c-8e22-55e8b993ee46"
      },
      "execution_count": 14,
      "outputs": [
        {
          "output_type": "display_data",
          "data": {
            "text/plain": [
              "<Figure size 400x400 with 2 Axes>"
            ],
            "image/png": "[encoded data removed]"
          },
          "metadata": {}
        },
        {
          "output_type": "stream",
          "name": "stdout",
          "text": [
            "Dominant expert id for each of the 23 nodes:\n",
            "[5, 2, 2, 5, 2, 4, 5, 2, 2, 3, 5, 1, 5, 3, 2, 5, 2, 5, 2, 3, 5, 4, 1, 1]\n"
          ]
        }
      ]
    }
  ]
}